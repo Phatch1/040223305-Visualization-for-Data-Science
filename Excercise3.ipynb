{
  "nbformat": 4,
  "nbformat_minor": 0,
  "metadata": {
    "colab": {
      "provenance": [],
      "toc_visible": true,
      "include_colab_link": true
    },
    "kernelspec": {
      "name": "python3",
      "display_name": "Python 3"
    },
    "language_info": {
      "name": "python"
    }
  },
  "cells": [
    {
      "cell_type": "markdown",
      "metadata": {
        "id": "view-in-github",
        "colab_type": "text"
      },
      "source": [
        "<a href=\"https://colab.research.google.com/github/Phatch1/040223305-Visualization-for-Data-Science/blob/main/Excercise3.ipynb\" target=\"_parent\"><img src=\"https://colab.research.google.com/assets/colab-badge.svg\" alt=\"Open In Colab\"/></a>"
      ]
    },
    {
      "cell_type": "markdown",
      "source": [
        "#1.1"
      ],
      "metadata": {
        "id": "MSPfMJbgdXcZ"
      }
    },
    {
      "cell_type": "code",
      "execution_count": null,
      "metadata": {
        "id": "lzpHNYvPWG3f",
        "colab": {
          "base_uri": "https://localhost:8080/"
        },
        "outputId": "a470aa77-ee31-49fd-f2d3-69568f7a19d4"
      },
      "outputs": [
        {
          "output_type": "execute_result",
          "data": {
            "text/plain": [
              "-2.797370839708946"
            ]
          },
          "metadata": {},
          "execution_count": 24
        }
      ],
      "source": [
        "import numpy as np\n",
        "\n",
        "def gradient_descent(gradient, start, learn_rate, n_iter):\n",
        "  vector = start\n",
        "  for _ in range(n_iter):\n",
        "    diff = -learn_rate * gradient(vector)\n",
        "    vector += diff\n",
        "  return vector\n",
        "\n",
        "gradient_descent(lambda x : 5/2*np.cos(x/2),-2.5,0.01,50)"
      ]
    },
    {
      "cell_type": "markdown",
      "source": [
        "#1.2"
      ],
      "metadata": {
        "id": "qfn1eJD1d6nd"
      }
    },
    {
      "cell_type": "code",
      "source": [
        "import numpy as np\n",
        "import matplotlib.pyplot as plt\n",
        "\n",
        "def f(x):\n",
        "  return 5*np.sin(x/2)\n",
        "#for plotting the graph of the function\n",
        "x = np.linspace(-5,-2,50)\n",
        "\n",
        "x_arr = []\n",
        "y_arr = []\n",
        "y = []\n",
        "def gradient_descent(gradient, start, learn_rate, n_iter):\n",
        "  vector = start\n",
        "  for _ in range(n_iter):\n",
        "    diff = -learn_rate * gradient(vector)\n",
        "    vector += diff\n",
        "\n",
        "    #append the x,y value for graph plotting\n",
        "    x_arr.append(vector)\n",
        "    y_arr.append(f(x_arr[_]))\n",
        "\n",
        "  #get the y coordinate for plotting the graph of the function\n",
        "  for i in range(50):\n",
        "    y.append(f(x[i]))\n",
        "\n",
        "  #plot the graph of the function\n",
        "  plt.plot(x,y)\n",
        "\n",
        "  #gradient descent point\n",
        "  plt.plot(x_arr,y_arr,'ro-')\n",
        "  plt.grid()\n",
        "  #plt.plot(f(x))\n",
        "  return vector\n",
        "\n",
        "\n",
        "#plt.plot(f(x),'-or')\n",
        "#derivertive the function\n",
        "gradient_descent(lambda x : 5/2*np.cos(x/2),-2.5,0.01,50)"
      ],
      "metadata": {
        "colab": {
          "base_uri": "https://localhost:8080/",
          "height": 282
        },
        "id": "UHIsMnEhd-OQ",
        "outputId": "ea19ac01-38dd-4d8c-a1c3-d55cab814e39"
      },
      "execution_count": null,
      "outputs": [
        {
          "output_type": "execute_result",
          "data": {
            "text/plain": [
              "-2.797370839708946"
            ]
          },
          "metadata": {},
          "execution_count": 23
        },
        {
          "output_type": "display_data",
          "data": {
            "text/plain": [
              "<Figure size 432x288 with 1 Axes>"
            ],
            "image/png": "[encoded data removed]"
          },
          "metadata": {
            "needs_background": "light"
          }
        }
      ]
    }
  ]
}