{
  "nbformat": 4,
  "nbformat_minor": 0,
  "metadata": {
    "colab": {
      "provenance": [],
      "include_colab_link": true
    },
    "kernelspec": {
      "name": "python3",
      "display_name": "Python 3"
    },
    "language_info": {
      "name": "python"
    }
  },
  "cells": [
    {
      "cell_type": "markdown",
      "metadata": {
        "id": "view-in-github",
        "colab_type": "text"
      },
      "source": [
        "<a href=\"https://colab.research.google.com/github/Phatch1/040223305-Visualization-for-Data-Science/blob/main/homework1.ipynb\" target=\"_parent\"><img src=\"https://colab.research.google.com/assets/colab-badge.svg\" alt=\"Open In Colab\"/></a>"
      ]
    },
    {
      "cell_type": "markdown",
      "source": [
        "##ข้อ1\n"
      ],
      "metadata": {
        "id": "WBriurUGaY23"
      }
    },
    {
      "cell_type": "code",
      "source": [
        "print(\"input number\")\n",
        "num = input()\n",
        "i=0\n",
        "number = []\n",
        "while(i<len(num)):\n",
        "  number.append(int(num[i]))\n",
        "  i=i+1\n",
        "check_digit = (11-(13*number[0]+12*number[1]+11*number[2]+10*number[3]+9*number[4]+8*number[5]+7*number[6]+6*number[7]+5*number[8]+4*number[9]+3*number[10]+2*number[11])%11)%10\n",
        "print(\"{0} {1}{2}{3}{4} {5}{6}{7}{8}{9} {10}{11} {12}\".format(number[0],number[1],number[2],number[3],number[4],number[5],number[6],number[7],number[8],number[9],number[10],number[11],check_digit))"
      ],
      "metadata": {
        "colab": {
          "base_uri": "https://localhost:8080/"
        },
        "id": "76VfhNdtahAv",
        "outputId": "680fba21-d418-4e97-c718-8575db6f1d08"
      },
      "execution_count": null,
      "outputs": [
        {
          "output_type": "stream",
          "name": "stdout",
          "text": [
            "input number\n",
            "123456789012\n",
            "1 2345 67890 12 1\n"
          ]
        }
      ]
    },
    {
      "cell_type": "markdown",
      "source": [
        "##ข้อ2"
      ],
      "metadata": {
        "id": "5UJxlqPVmRuw"
      }
    },
    {
      "cell_type": "code",
      "source": [
        "from numpy import median\n",
        "\n",
        "num_list = []\n",
        "print(\"input num1\")\n",
        "num_list.append(int(input()))\n",
        "print(\"input num2\")\n",
        "num_list.append(int(input()))\n",
        "print(\"input num3\")\n",
        "num_list.append(int(input()))\n",
        "print(\"input num4\")\n",
        "num_list.append(int(input()))\n",
        "print(\"input num5\")\n",
        "num_list.append(int(input()))\n",
        "print(median(num_list))"
      ],
      "metadata": {
        "id": "mquUoY6NmWYe"
      },
      "execution_count": null,
      "outputs": []
    }
  ]
}